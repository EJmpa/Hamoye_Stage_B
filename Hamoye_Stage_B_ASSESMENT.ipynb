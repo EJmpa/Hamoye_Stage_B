{
  "cells": [
    {
      "cell_type": "markdown",
      "metadata": {
        "id": "view-in-github",
        "colab_type": "text"
      },
      "source": [
        "<a href=\"https://colab.research.google.com/github/EJmpa/Hamoye_Stage_B/blob/main/Hamoye_Stage_B_ASSESMENT.ipynb\" target=\"_parent\"><img src=\"https://colab.research.google.com/assets/colab-badge.svg\" alt=\"Open In Colab\"/></a>"
      ]
    },
    {
      "cell_type": "markdown",
      "id": "ce0f35ee-05c9-4189-aa67-895a87f6ddd6",
      "metadata": {
        "id": "ce0f35ee-05c9-4189-aa67-895a87f6ddd6"
      },
      "source": [
        "# Library imporation"
      ]
    },
    {
      "cell_type": "code",
      "execution_count": 1,
      "id": "9dc35390-1901-4ace-a04a-0670bfba97fb",
      "metadata": {
        "id": "9dc35390-1901-4ace-a04a-0670bfba97fb"
      },
      "outputs": [],
      "source": [
        "# Library imporation\n",
        "\n",
        "import pandas as pd\n",
        "import seaborn as sns\n",
        "import numpy as np\n",
        "from sklearn.linear_model import LinearRegression\n",
        "from sklearn.model_selection import train_test_split\n",
        "from sklearn.preprocessing import MinMaxScaler\n",
        "from sklearn.metrics import mean_absolute_error"
      ]
    },
    {
      "cell_type": "code",
      "source": [
        "from google.colab import files\n",
        "\n",
        "uploaded = files.upload()"
      ],
      "metadata": {
        "colab": {
          "base_uri": "https://localhost:8080/",
          "height": 71
        },
        "id": "5Y1bRt-8Dd5j",
        "outputId": "bb3c6375-8044-4020-c8ea-c8ecd076521c"
      },
      "id": "5Y1bRt-8Dd5j",
      "execution_count": 2,
      "outputs": [
        {
          "output_type": "display_data",
          "data": {
            "text/plain": [
              "<IPython.core.display.HTML object>"
            ],
            "text/html": [
              "\n",
              "     <input type=\"file\" id=\"files-46fe48c3-ddb2-4f73-8923-61d3172ddb53\" name=\"files[]\" multiple disabled\n",
              "        style=\"border:none\" />\n",
              "     <output id=\"result-46fe48c3-ddb2-4f73-8923-61d3172ddb53\">\n",
              "      Upload widget is only available when the cell has been executed in the\n",
              "      current browser session. Please rerun this cell to enable.\n",
              "      </output>\n",
              "      <script>// Copyright 2017 Google LLC\n",
              "//\n",
              "// Licensed under the Apache License, Version 2.0 (the \"License\");\n",
              "// you may not use this file except in compliance with the License.\n",
              "// You may obtain a copy of the License at\n",
              "//\n",
              "//      http://www.apache.org/licenses/LICENSE-2.0\n",
              "//\n",
              "// Unless required by applicable law or agreed to in writing, software\n",
              "// distributed under the License is distributed on an \"AS IS\" BASIS,\n",
              "// WITHOUT WARRANTIES OR CONDITIONS OF ANY KIND, either express or implied.\n",
              "// See the License for the specific language governing permissions and\n",
              "// limitations under the License.\n",
              "\n",
              "/**\n",
              " * @fileoverview Helpers for google.colab Python module.\n",
              " */\n",
              "(function(scope) {\n",
              "function span(text, styleAttributes = {}) {\n",
              "  const element = document.createElement('span');\n",
              "  element.textContent = text;\n",
              "  for (const key of Object.keys(styleAttributes)) {\n",
              "    element.style[key] = styleAttributes[key];\n",
              "  }\n",
              "  return element;\n",
              "}\n",
              "\n",
              "// Max number of bytes which will be uploaded at a time.\n",
              "const MAX_PAYLOAD_SIZE = 100 * 1024;\n",
              "\n",
              "function _uploadFiles(inputId, outputId) {\n",
              "  const steps = uploadFilesStep(inputId, outputId);\n",
              "  const outputElement = document.getElementById(outputId);\n",
              "  // Cache steps on the outputElement to make it available for the next call\n",
              "  // to uploadFilesContinue from Python.\n",
              "  outputElement.steps = steps;\n",
              "\n",
              "  return _uploadFilesContinue(outputId);\n",
              "}\n",
              "\n",
              "// This is roughly an async generator (not supported in the browser yet),\n",
              "// where there are multiple asynchronous steps and the Python side is going\n",
              "// to poll for completion of each step.\n",
              "// This uses a Promise to block the python side on completion of each step,\n",
              "// then passes the result of the previous step as the input to the next step.\n",
              "function _uploadFilesContinue(outputId) {\n",
              "  const outputElement = document.getElementById(outputId);\n",
              "  const steps = outputElement.steps;\n",
              "\n",
              "  const next = steps.next(outputElement.lastPromiseValue);\n",
              "  return Promise.resolve(next.value.promise).then((value) => {\n",
              "    // Cache the last promise value to make it available to the next\n",
              "    // step of the generator.\n",
              "    outputElement.lastPromiseValue = value;\n",
              "    return next.value.response;\n",
              "  });\n",
              "}\n",
              "\n",
              "/**\n",
              " * Generator function which is called between each async step of the upload\n",
              " * process.\n",
              " * @param {string} inputId Element ID of the input file picker element.\n",
              " * @param {string} outputId Element ID of the output display.\n",
              " * @return {!Iterable<!Object>} Iterable of next steps.\n",
              " */\n",
              "function* uploadFilesStep(inputId, outputId) {\n",
              "  const inputElement = document.getElementById(inputId);\n",
              "  inputElement.disabled = false;\n",
              "\n",
              "  const outputElement = document.getElementById(outputId);\n",
              "  outputElement.innerHTML = '';\n",
              "\n",
              "  const pickedPromise = new Promise((resolve) => {\n",
              "    inputElement.addEventListener('change', (e) => {\n",
              "      resolve(e.target.files);\n",
              "    });\n",
              "  });\n",
              "\n",
              "  const cancel = document.createElement('button');\n",
              "  inputElement.parentElement.appendChild(cancel);\n",
              "  cancel.textContent = 'Cancel upload';\n",
              "  const cancelPromise = new Promise((resolve) => {\n",
              "    cancel.onclick = () => {\n",
              "      resolve(null);\n",
              "    };\n",
              "  });\n",
              "\n",
              "  // Wait for the user to pick the files.\n",
              "  const files = yield {\n",
              "    promise: Promise.race([pickedPromise, cancelPromise]),\n",
              "    response: {\n",
              "      action: 'starting',\n",
              "    }\n",
              "  };\n",
              "\n",
              "  cancel.remove();\n",
              "\n",
              "  // Disable the input element since further picks are not allowed.\n",
              "  inputElement.disabled = true;\n",
              "\n",
              "  if (!files) {\n",
              "    return {\n",
              "      response: {\n",
              "        action: 'complete',\n",
              "      }\n",
              "    };\n",
              "  }\n",
              "\n",
              "  for (const file of files) {\n",
              "    const li = document.createElement('li');\n",
              "    li.append(span(file.name, {fontWeight: 'bold'}));\n",
              "    li.append(span(\n",
              "        `(${file.type || 'n/a'}) - ${file.size} bytes, ` +\n",
              "        `last modified: ${\n",
              "            file.lastModifiedDate ? file.lastModifiedDate.toLocaleDateString() :\n",
              "                                    'n/a'} - `));\n",
              "    const percent = span('0% done');\n",
              "    li.appendChild(percent);\n",
              "\n",
              "    outputElement.appendChild(li);\n",
              "\n",
              "    const fileDataPromise = new Promise((resolve) => {\n",
              "      const reader = new FileReader();\n",
              "      reader.onload = (e) => {\n",
              "        resolve(e.target.result);\n",
              "      };\n",
              "      reader.readAsArrayBuffer(file);\n",
              "    });\n",
              "    // Wait for the data to be ready.\n",
              "    let fileData = yield {\n",
              "      promise: fileDataPromise,\n",
              "      response: {\n",
              "        action: 'continue',\n",
              "      }\n",
              "    };\n",
              "\n",
              "    // Use a chunked sending to avoid message size limits. See b/62115660.\n",
              "    let position = 0;\n",
              "    do {\n",
              "      const length = Math.min(fileData.byteLength - position, MAX_PAYLOAD_SIZE);\n",
              "      const chunk = new Uint8Array(fileData, position, length);\n",
              "      position += length;\n",
              "\n",
              "      const base64 = btoa(String.fromCharCode.apply(null, chunk));\n",
              "      yield {\n",
              "        response: {\n",
              "          action: 'append',\n",
              "          file: file.name,\n",
              "          data: base64,\n",
              "        },\n",
              "      };\n",
              "\n",
              "      let percentDone = fileData.byteLength === 0 ?\n",
              "          100 :\n",
              "          Math.round((position / fileData.byteLength) * 100);\n",
              "      percent.textContent = `${percentDone}% done`;\n",
              "\n",
              "    } while (position < fileData.byteLength);\n",
              "  }\n",
              "\n",
              "  // All done.\n",
              "  yield {\n",
              "    response: {\n",
              "      action: 'complete',\n",
              "    }\n",
              "  };\n",
              "}\n",
              "\n",
              "scope.google = scope.google || {};\n",
              "scope.google.colab = scope.google.colab || {};\n",
              "scope.google.colab._files = {\n",
              "  _uploadFiles,\n",
              "  _uploadFilesContinue,\n",
              "};\n",
              "})(self);\n",
              "</script> "
            ]
          },
          "metadata": {}
        },
        {
          "output_type": "stream",
          "name": "stdout",
          "text": [
            "Saving energydata_complete.csv to energydata_complete.csv\n"
          ]
        }
      ]
    },
    {
      "cell_type": "markdown",
      "id": "69abcd8a-6832-45dd-93fd-f9b7067c5098",
      "metadata": {
        "id": "69abcd8a-6832-45dd-93fd-f9b7067c5098"
      },
      "source": [
        "# Read csv file into DataFrame"
      ]
    },
    {
      "cell_type": "code",
      "execution_count": 3,
      "id": "406e8ddc-a7e2-4e9e-b374-731f64faf777",
      "metadata": {
        "colab": {
          "base_uri": "https://localhost:8080/",
          "height": 478
        },
        "id": "406e8ddc-a7e2-4e9e-b374-731f64faf777",
        "outputId": "06ac0de1-d729-4330-9d2c-8de6f6479238"
      },
      "outputs": [
        {
          "output_type": "stream",
          "name": "stdout",
          "text": [
            "(19735, 28)\n"
          ]
        },
        {
          "output_type": "execute_result",
          "data": {
            "text/plain": [
              "                     Appliances  lights     T1       RH_1    T2       RH_2  \\\n",
              "date                                                                         \n",
              "2016-01-11 17:00:00          60      30  19.89  47.596667  19.2  44.790000   \n",
              "2016-01-11 17:10:00          60      30  19.89  46.693333  19.2  44.722500   \n",
              "2016-01-11 17:20:00          50      30  19.89  46.300000  19.2  44.626667   \n",
              "2016-01-11 17:30:00          50      40  19.89  46.066667  19.2  44.590000   \n",
              "2016-01-11 17:40:00          60      40  19.89  46.333333  19.2  44.530000   \n",
              "\n",
              "                        T3       RH_3         T4       RH_4  ...         T9  \\\n",
              "date                                                         ...              \n",
              "2016-01-11 17:00:00  19.79  44.730000  19.000000  45.566667  ...  17.033333   \n",
              "2016-01-11 17:10:00  19.79  44.790000  19.000000  45.992500  ...  17.066667   \n",
              "2016-01-11 17:20:00  19.79  44.933333  18.926667  45.890000  ...  17.000000   \n",
              "2016-01-11 17:30:00  19.79  45.000000  18.890000  45.723333  ...  17.000000   \n",
              "2016-01-11 17:40:00  19.79  45.000000  18.890000  45.530000  ...  17.000000   \n",
              "\n",
              "                      RH_9     T_out  Press_mm_hg  RH_out  Windspeed  \\\n",
              "date                                                                   \n",
              "2016-01-11 17:00:00  45.53  6.600000        733.5    92.0   7.000000   \n",
              "2016-01-11 17:10:00  45.56  6.483333        733.6    92.0   6.666667   \n",
              "2016-01-11 17:20:00  45.50  6.366667        733.7    92.0   6.333333   \n",
              "2016-01-11 17:30:00  45.40  6.250000        733.8    92.0   6.000000   \n",
              "2016-01-11 17:40:00  45.40  6.133333        733.9    92.0   5.666667   \n",
              "\n",
              "                     Visibility  Tdewpoint        rv1        rv2  \n",
              "date                                                              \n",
              "2016-01-11 17:00:00   63.000000        5.3  13.275433  13.275433  \n",
              "2016-01-11 17:10:00   59.166667        5.2  18.606195  18.606195  \n",
              "2016-01-11 17:20:00   55.333333        5.1  28.642668  28.642668  \n",
              "2016-01-11 17:30:00   51.500000        5.0  45.410389  45.410389  \n",
              "2016-01-11 17:40:00   47.666667        4.9  10.084097  10.084097  \n",
              "\n",
              "[5 rows x 28 columns]"
            ],
            "text/html": [
              "\n",
              "  <div id=\"df-1042beef-8896-41ba-a9be-7f3dda119868\" class=\"colab-df-container\">\n",
              "    <div>\n",
              "<style scoped>\n",
              "    .dataframe tbody tr th:only-of-type {\n",
              "        vertical-align: middle;\n",
              "    }\n",
              "\n",
              "    .dataframe tbody tr th {\n",
              "        vertical-align: top;\n",
              "    }\n",
              "\n",
              "    .dataframe thead th {\n",
              "        text-align: right;\n",
              "    }\n",
              "</style>\n",
              "<table border=\"1\" class=\"dataframe\">\n",
              "  <thead>\n",
              "    <tr style=\"text-align: right;\">\n",
              "      <th></th>\n",
              "      <th>Appliances</th>\n",
              "      <th>lights</th>\n",
              "      <th>T1</th>\n",
              "      <th>RH_1</th>\n",
              "      <th>T2</th>\n",
              "      <th>RH_2</th>\n",
              "      <th>T3</th>\n",
              "      <th>RH_3</th>\n",
              "      <th>T4</th>\n",
              "      <th>RH_4</th>\n",
              "      <th>...</th>\n",
              "      <th>T9</th>\n",
              "      <th>RH_9</th>\n",
              "      <th>T_out</th>\n",
              "      <th>Press_mm_hg</th>\n",
              "      <th>RH_out</th>\n",
              "      <th>Windspeed</th>\n",
              "      <th>Visibility</th>\n",
              "      <th>Tdewpoint</th>\n",
              "      <th>rv1</th>\n",
              "      <th>rv2</th>\n",
              "    </tr>\n",
              "    <tr>\n",
              "      <th>date</th>\n",
              "      <th></th>\n",
              "      <th></th>\n",
              "      <th></th>\n",
              "      <th></th>\n",
              "      <th></th>\n",
              "      <th></th>\n",
              "      <th></th>\n",
              "      <th></th>\n",
              "      <th></th>\n",
              "      <th></th>\n",
              "      <th></th>\n",
              "      <th></th>\n",
              "      <th></th>\n",
              "      <th></th>\n",
              "      <th></th>\n",
              "      <th></th>\n",
              "      <th></th>\n",
              "      <th></th>\n",
              "      <th></th>\n",
              "      <th></th>\n",
              "      <th></th>\n",
              "    </tr>\n",
              "  </thead>\n",
              "  <tbody>\n",
              "    <tr>\n",
              "      <th>2016-01-11 17:00:00</th>\n",
              "      <td>60</td>\n",
              "      <td>30</td>\n",
              "      <td>19.89</td>\n",
              "      <td>47.596667</td>\n",
              "      <td>19.2</td>\n",
              "      <td>44.790000</td>\n",
              "      <td>19.79</td>\n",
              "      <td>44.730000</td>\n",
              "      <td>19.000000</td>\n",
              "      <td>45.566667</td>\n",
              "      <td>...</td>\n",
              "      <td>17.033333</td>\n",
              "      <td>45.53</td>\n",
              "      <td>6.600000</td>\n",
              "      <td>733.5</td>\n",
              "      <td>92.0</td>\n",
              "      <td>7.000000</td>\n",
              "      <td>63.000000</td>\n",
              "      <td>5.3</td>\n",
              "      <td>13.275433</td>\n",
              "      <td>13.275433</td>\n",
              "    </tr>\n",
              "    <tr>\n",
              "      <th>2016-01-11 17:10:00</th>\n",
              "      <td>60</td>\n",
              "      <td>30</td>\n",
              "      <td>19.89</td>\n",
              "      <td>46.693333</td>\n",
              "      <td>19.2</td>\n",
              "      <td>44.722500</td>\n",
              "      <td>19.79</td>\n",
              "      <td>44.790000</td>\n",
              "      <td>19.000000</td>\n",
              "      <td>45.992500</td>\n",
              "      <td>...</td>\n",
              "      <td>17.066667</td>\n",
              "      <td>45.56</td>\n",
              "      <td>6.483333</td>\n",
              "      <td>733.6</td>\n",
              "      <td>92.0</td>\n",
              "      <td>6.666667</td>\n",
              "      <td>59.166667</td>\n",
              "      <td>5.2</td>\n",
              "      <td>18.606195</td>\n",
              "      <td>18.606195</td>\n",
              "    </tr>\n",
              "    <tr>\n",
              "      <th>2016-01-11 17:20:00</th>\n",
              "      <td>50</td>\n",
              "      <td>30</td>\n",
              "      <td>19.89</td>\n",
              "      <td>46.300000</td>\n",
              "      <td>19.2</td>\n",
              "      <td>44.626667</td>\n",
              "      <td>19.79</td>\n",
              "      <td>44.933333</td>\n",
              "      <td>18.926667</td>\n",
              "      <td>45.890000</td>\n",
              "      <td>...</td>\n",
              "      <td>17.000000</td>\n",
              "      <td>45.50</td>\n",
              "      <td>6.366667</td>\n",
              "      <td>733.7</td>\n",
              "      <td>92.0</td>\n",
              "      <td>6.333333</td>\n",
              "      <td>55.333333</td>\n",
              "      <td>5.1</td>\n",
              "      <td>28.642668</td>\n",
              "      <td>28.642668</td>\n",
              "    </tr>\n",
              "    <tr>\n",
              "      <th>2016-01-11 17:30:00</th>\n",
              "      <td>50</td>\n",
              "      <td>40</td>\n",
              "      <td>19.89</td>\n",
              "      <td>46.066667</td>\n",
              "      <td>19.2</td>\n",
              "      <td>44.590000</td>\n",
              "      <td>19.79</td>\n",
              "      <td>45.000000</td>\n",
              "      <td>18.890000</td>\n",
              "      <td>45.723333</td>\n",
              "      <td>...</td>\n",
              "      <td>17.000000</td>\n",
              "      <td>45.40</td>\n",
              "      <td>6.250000</td>\n",
              "      <td>733.8</td>\n",
              "      <td>92.0</td>\n",
              "      <td>6.000000</td>\n",
              "      <td>51.500000</td>\n",
              "      <td>5.0</td>\n",
              "      <td>45.410389</td>\n",
              "      <td>45.410389</td>\n",
              "    </tr>\n",
              "    <tr>\n",
              "      <th>2016-01-11 17:40:00</th>\n",
              "      <td>60</td>\n",
              "      <td>40</td>\n",
              "      <td>19.89</td>\n",
              "      <td>46.333333</td>\n",
              "      <td>19.2</td>\n",
              "      <td>44.530000</td>\n",
              "      <td>19.79</td>\n",
              "      <td>45.000000</td>\n",
              "      <td>18.890000</td>\n",
              "      <td>45.530000</td>\n",
              "      <td>...</td>\n",
              "      <td>17.000000</td>\n",
              "      <td>45.40</td>\n",
              "      <td>6.133333</td>\n",
              "      <td>733.9</td>\n",
              "      <td>92.0</td>\n",
              "      <td>5.666667</td>\n",
              "      <td>47.666667</td>\n",
              "      <td>4.9</td>\n",
              "      <td>10.084097</td>\n",
              "      <td>10.084097</td>\n",
              "    </tr>\n",
              "  </tbody>\n",
              "</table>\n",
              "<p>5 rows × 28 columns</p>\n",
              "</div>\n",
              "    <div class=\"colab-df-buttons\">\n",
              "\n",
              "  <div class=\"colab-df-container\">\n",
              "    <button class=\"colab-df-convert\" onclick=\"convertToInteractive('df-1042beef-8896-41ba-a9be-7f3dda119868')\"\n",
              "            title=\"Convert this dataframe to an interactive table.\"\n",
              "            style=\"display:none;\">\n",
              "\n",
              "  <svg xmlns=\"http://www.w3.org/2000/svg\" height=\"24px\" viewBox=\"0 -960 960 960\">\n",
              "    <path d=\"M120-120v-720h720v720H120Zm60-500h600v-160H180v160Zm220 220h160v-160H400v160Zm0 220h160v-160H400v160ZM180-400h160v-160H180v160Zm440 0h160v-160H620v160ZM180-180h160v-160H180v160Zm440 0h160v-160H620v160Z\"/>\n",
              "  </svg>\n",
              "    </button>\n",
              "\n",
              "  <style>\n",
              "    .colab-df-container {\n",
              "      display:flex;\n",
              "      gap: 12px;\n",
              "    }\n",
              "\n",
              "    .colab-df-convert {\n",
              "      background-color: #E8F0FE;\n",
              "      border: none;\n",
              "      border-radius: 50%;\n",
              "      cursor: pointer;\n",
              "      display: none;\n",
              "      fill: #1967D2;\n",
              "      height: 32px;\n",
              "      padding: 0 0 0 0;\n",
              "      width: 32px;\n",
              "    }\n",
              "\n",
              "    .colab-df-convert:hover {\n",
              "      background-color: #E2EBFA;\n",
              "      box-shadow: 0px 1px 2px rgba(60, 64, 67, 0.3), 0px 1px 3px 1px rgba(60, 64, 67, 0.15);\n",
              "      fill: #174EA6;\n",
              "    }\n",
              "\n",
              "    .colab-df-buttons div {\n",
              "      margin-bottom: 4px;\n",
              "    }\n",
              "\n",
              "    [theme=dark] .colab-df-convert {\n",
              "      background-color: #3B4455;\n",
              "      fill: #D2E3FC;\n",
              "    }\n",
              "\n",
              "    [theme=dark] .colab-df-convert:hover {\n",
              "      background-color: #434B5C;\n",
              "      box-shadow: 0px 1px 3px 1px rgba(0, 0, 0, 0.15);\n",
              "      filter: drop-shadow(0px 1px 2px rgba(0, 0, 0, 0.3));\n",
              "      fill: #FFFFFF;\n",
              "    }\n",
              "  </style>\n",
              "\n",
              "    <script>\n",
              "      const buttonEl =\n",
              "        document.querySelector('#df-1042beef-8896-41ba-a9be-7f3dda119868 button.colab-df-convert');\n",
              "      buttonEl.style.display =\n",
              "        google.colab.kernel.accessAllowed ? 'block' : 'none';\n",
              "\n",
              "      async function convertToInteractive(key) {\n",
              "        const element = document.querySelector('#df-1042beef-8896-41ba-a9be-7f3dda119868');\n",
              "        const dataTable =\n",
              "          await google.colab.kernel.invokeFunction('convertToInteractive',\n",
              "                                                    [key], {});\n",
              "        if (!dataTable) return;\n",
              "\n",
              "        const docLinkHtml = 'Like what you see? Visit the ' +\n",
              "          '<a target=\"_blank\" href=https://colab.research.google.com/notebooks/data_table.ipynb>data table notebook</a>'\n",
              "          + ' to learn more about interactive tables.';\n",
              "        element.innerHTML = '';\n",
              "        dataTable['output_type'] = 'display_data';\n",
              "        await google.colab.output.renderOutput(dataTable, element);\n",
              "        const docLink = document.createElement('div');\n",
              "        docLink.innerHTML = docLinkHtml;\n",
              "        element.appendChild(docLink);\n",
              "      }\n",
              "    </script>\n",
              "  </div>\n",
              "\n",
              "\n",
              "<div id=\"df-753e2271-a2cf-46e1-a9d0-87225b54a126\">\n",
              "  <button class=\"colab-df-quickchart\" onclick=\"quickchart('df-753e2271-a2cf-46e1-a9d0-87225b54a126')\"\n",
              "            title=\"Suggest charts.\"\n",
              "            style=\"display:none;\">\n",
              "\n",
              "<svg xmlns=\"http://www.w3.org/2000/svg\" height=\"24px\"viewBox=\"0 0 24 24\"\n",
              "     width=\"24px\">\n",
              "    <g>\n",
              "        <path d=\"M19 3H5c-1.1 0-2 .9-2 2v14c0 1.1.9 2 2 2h14c1.1 0 2-.9 2-2V5c0-1.1-.9-2-2-2zM9 17H7v-7h2v7zm4 0h-2V7h2v10zm4 0h-2v-4h2v4z\"/>\n",
              "    </g>\n",
              "</svg>\n",
              "  </button>\n",
              "\n",
              "<style>\n",
              "  .colab-df-quickchart {\n",
              "      --bg-color: #E8F0FE;\n",
              "      --fill-color: #1967D2;\n",
              "      --hover-bg-color: #E2EBFA;\n",
              "      --hover-fill-color: #174EA6;\n",
              "      --disabled-fill-color: #AAA;\n",
              "      --disabled-bg-color: #DDD;\n",
              "  }\n",
              "\n",
              "  [theme=dark] .colab-df-quickchart {\n",
              "      --bg-color: #3B4455;\n",
              "      --fill-color: #D2E3FC;\n",
              "      --hover-bg-color: #434B5C;\n",
              "      --hover-fill-color: #FFFFFF;\n",
              "      --disabled-bg-color: #3B4455;\n",
              "      --disabled-fill-color: #666;\n",
              "  }\n",
              "\n",
              "  .colab-df-quickchart {\n",
              "    background-color: var(--bg-color);\n",
              "    border: none;\n",
              "    border-radius: 50%;\n",
              "    cursor: pointer;\n",
              "    display: none;\n",
              "    fill: var(--fill-color);\n",
              "    height: 32px;\n",
              "    padding: 0;\n",
              "    width: 32px;\n",
              "  }\n",
              "\n",
              "  .colab-df-quickchart:hover {\n",
              "    background-color: var(--hover-bg-color);\n",
              "    box-shadow: 0 1px 2px rgba(60, 64, 67, 0.3), 0 1px 3px 1px rgba(60, 64, 67, 0.15);\n",
              "    fill: var(--button-hover-fill-color);\n",
              "  }\n",
              "\n",
              "  .colab-df-quickchart-complete:disabled,\n",
              "  .colab-df-quickchart-complete:disabled:hover {\n",
              "    background-color: var(--disabled-bg-color);\n",
              "    fill: var(--disabled-fill-color);\n",
              "    box-shadow: none;\n",
              "  }\n",
              "\n",
              "  .colab-df-spinner {\n",
              "    border: 2px solid var(--fill-color);\n",
              "    border-color: transparent;\n",
              "    border-bottom-color: var(--fill-color);\n",
              "    animation:\n",
              "      spin 1s steps(1) infinite;\n",
              "  }\n",
              "\n",
              "  @keyframes spin {\n",
              "    0% {\n",
              "      border-color: transparent;\n",
              "      border-bottom-color: var(--fill-color);\n",
              "      border-left-color: var(--fill-color);\n",
              "    }\n",
              "    20% {\n",
              "      border-color: transparent;\n",
              "      border-left-color: var(--fill-color);\n",
              "      border-top-color: var(--fill-color);\n",
              "    }\n",
              "    30% {\n",
              "      border-color: transparent;\n",
              "      border-left-color: var(--fill-color);\n",
              "      border-top-color: var(--fill-color);\n",
              "      border-right-color: var(--fill-color);\n",
              "    }\n",
              "    40% {\n",
              "      border-color: transparent;\n",
              "      border-right-color: var(--fill-color);\n",
              "      border-top-color: var(--fill-color);\n",
              "    }\n",
              "    60% {\n",
              "      border-color: transparent;\n",
              "      border-right-color: var(--fill-color);\n",
              "    }\n",
              "    80% {\n",
              "      border-color: transparent;\n",
              "      border-right-color: var(--fill-color);\n",
              "      border-bottom-color: var(--fill-color);\n",
              "    }\n",
              "    90% {\n",
              "      border-color: transparent;\n",
              "      border-bottom-color: var(--fill-color);\n",
              "    }\n",
              "  }\n",
              "</style>\n",
              "\n",
              "  <script>\n",
              "    async function quickchart(key) {\n",
              "      const quickchartButtonEl =\n",
              "        document.querySelector('#' + key + ' button');\n",
              "      quickchartButtonEl.disabled = true;  // To prevent multiple clicks.\n",
              "      quickchartButtonEl.classList.add('colab-df-spinner');\n",
              "      try {\n",
              "        const charts = await google.colab.kernel.invokeFunction(\n",
              "            'suggestCharts', [key], {});\n",
              "      } catch (error) {\n",
              "        console.error('Error during call to suggestCharts:', error);\n",
              "      }\n",
              "      quickchartButtonEl.classList.remove('colab-df-spinner');\n",
              "      quickchartButtonEl.classList.add('colab-df-quickchart-complete');\n",
              "    }\n",
              "    (() => {\n",
              "      let quickchartButtonEl =\n",
              "        document.querySelector('#df-753e2271-a2cf-46e1-a9d0-87225b54a126 button');\n",
              "      quickchartButtonEl.style.display =\n",
              "        google.colab.kernel.accessAllowed ? 'block' : 'none';\n",
              "    })();\n",
              "  </script>\n",
              "</div>\n",
              "    </div>\n",
              "  </div>\n"
            ]
          },
          "metadata": {},
          "execution_count": 3
        }
      ],
      "source": [
        "df = pd.read_csv(\"energydata_complete.csv\")\n",
        "\n",
        "df.set_index('date', inplace=True)\n",
        "print(df.shape)\n",
        "df.head()"
      ]
    },
    {
      "cell_type": "markdown",
      "id": "9cf6d271-0adf-48c9-8430-b20eab18d38a",
      "metadata": {
        "id": "9cf6d271-0adf-48c9-8430-b20eab18d38a"
      },
      "source": [
        "# Question 17\n",
        "\n",
        "**From the dataset, fit a linear model on the relationship between the temperature in the living room in Celsius (x = T2) and the temperature outside the building (y = T6). What is the Root Mean Squared error in three D.P?**"
      ]
    },
    {
      "cell_type": "code",
      "execution_count": 4,
      "id": "73122d91-7491-4f30-b877-7a3122848877",
      "metadata": {
        "id": "73122d91-7491-4f30-b877-7a3122848877"
      },
      "outputs": [],
      "source": [
        "features = df[['T2']]\n",
        "target1 = df['T6']\n",
        "\n",
        "model = LinearRegression()\n",
        "\n",
        "#fit the model to the training dataset\n",
        "model.fit(features, target1)\n",
        "\n",
        "\n",
        "#obtain predictions\n",
        "y_hat = model.predict(features)"
      ]
    },
    {
      "cell_type": "code",
      "execution_count": 5,
      "id": "764a9f34-5921-45dc-ba28-09bb6b643684",
      "metadata": {
        "colab": {
          "base_uri": "https://localhost:8080/"
        },
        "id": "764a9f34-5921-45dc-ba28-09bb6b643684",
        "outputId": "be7ae700-d189-4b89-dffe-0da857e0226e"
      },
      "outputs": [
        {
          "output_type": "stream",
          "name": "stdout",
          "text": [
            "\n",
            "Root Mean Square Error: 3.644\n"
          ]
        }
      ],
      "source": [
        "#  Root Mean Square Error (RMSE)\n",
        "\n",
        "from sklearn.metrics import mean_squared_error\n",
        "rmse = np.sqrt(mean_squared_error(target1, y_hat))\n",
        "print('\\nRoot Mean Square Error:', round(rmse, 3))"
      ]
    },
    {
      "cell_type": "markdown",
      "id": "4a34ef19-4a61-414f-be20-36fa9823fdd8",
      "metadata": {
        "id": "4a34ef19-4a61-414f-be20-36fa9823fdd8"
      },
      "source": [
        "# Question 18\n",
        "\n",
        "**Remove the following columns: `[“date”, “lights”]`. The target variable is “Appliances”. Use a 70-30 train-test set split with a  random state of 42 (for reproducibility). Normalize the dataset using the MinMaxScaler (Hint: Use the MinMaxScaler fit_transform and transform methods on the train and test set respectively). Run a multiple linear regression using the training set. Answer the following questions:**\n",
        "\n",
        "**What is the Mean Absolute Error (in three decimal places) for the  training set?**"
      ]
    },
    {
      "cell_type": "code",
      "execution_count": 6,
      "id": "8291af4a-df4b-4464-8706-563366eebdd0",
      "metadata": {
        "colab": {
          "base_uri": "https://localhost:8080/"
        },
        "id": "8291af4a-df4b-4464-8706-563366eebdd0",
        "outputId": "a9c4413e-65e4-487c-f67a-f00ba0ddd5f9"
      },
      "outputs": [
        {
          "output_type": "stream",
          "name": "stdout",
          "text": [
            "Mean Absolute Error (MAE) for the training set: 53.742\n"
          ]
        }
      ],
      "source": [
        "# Remove columns \"date\" and \"lights\"\n",
        "\n",
        "# Define feature variables (X) and target variable (y)\n",
        "X = df.drop(columns=[\"Appliances\", \"lights\"])\n",
        "y = df[\"Appliances\"]\n",
        "\n",
        "# Split the data into training and testing sets\n",
        "X_train, X_test, y_train, y_test = train_test_split(X, y, test_size=0.3, random_state=42)\n",
        "\n",
        "# Normalize the dataset using MinMaxScaler\n",
        "scaler = MinMaxScaler()\n",
        "X_train = scaler.fit_transform(X_train)\n",
        "X_test = scaler.transform(X_test)\n",
        "\n",
        "# Create and fit the Multiple Linear Regression model\n",
        "model = LinearRegression()\n",
        "model.fit(X_train, y_train)\n",
        "\n",
        "# Make predictions on the training set\n",
        "y_pred_train = model.predict(X_train)\n",
        "\n",
        "# Calculate the Mean Absolute Error (MAE) for the training set\n",
        "mae_train = mean_absolute_error(y_train, y_pred_train)\n",
        "\n",
        "print(f'Mean Absolute Error (MAE) for the training set: {mae_train:.3f}')\n"
      ]
    },
    {
      "cell_type": "markdown",
      "id": "7123564a-4b42-4a0f-9553-70afe16009b7",
      "metadata": {
        "id": "7123564a-4b42-4a0f-9553-70afe16009b7"
      },
      "source": [
        "# Question 19\n",
        "\n",
        "**What is the Root Mean Squared Error (in three decimal places) for the training set?**"
      ]
    },
    {
      "cell_type": "code",
      "execution_count": 7,
      "id": "3f6ef871-5ef0-4a3d-9609-e36d3e6d3036",
      "metadata": {
        "colab": {
          "base_uri": "https://localhost:8080/"
        },
        "id": "3f6ef871-5ef0-4a3d-9609-e36d3e6d3036",
        "outputId": "ea196ac1-e99e-45c1-833e-9eb45d59beaf"
      },
      "outputs": [
        {
          "output_type": "stream",
          "name": "stdout",
          "text": [
            "Root Mean Squared Error (RMSE) for the training set: 95.216\n"
          ]
        }
      ],
      "source": [
        "# Mean Squared Error (MSE) for the training set\n",
        "mse_train = mean_squared_error(y_train, y_pred_train)\n",
        "\n",
        "# Root Mean Squared Error (RMSE) for the training set\n",
        "rmse_train = (mse_train ** 0.5)\n",
        "\n",
        "print(f'Root Mean Squared Error (RMSE) for the training set: {rmse_train:.3f}')"
      ]
    },
    {
      "cell_type": "markdown",
      "id": "923d8bb8-3a46-4988-a656-befea3efe3de",
      "metadata": {
        "id": "923d8bb8-3a46-4988-a656-befea3efe3de"
      },
      "source": [
        "# Question 20\n",
        "\n",
        "**What is the Mean Absolute Error (in three decimal places) for test set?**"
      ]
    },
    {
      "cell_type": "code",
      "execution_count": 8,
      "id": "1bd993bf-66d0-4f24-8141-dfa790193bf8",
      "metadata": {
        "colab": {
          "base_uri": "https://localhost:8080/"
        },
        "id": "1bd993bf-66d0-4f24-8141-dfa790193bf8",
        "outputId": "180d6d6c-0982-471d-90da-5f4c1f62431e"
      },
      "outputs": [
        {
          "output_type": "stream",
          "name": "stdout",
          "text": [
            "Mean Absolute Error (MAE) for the test set: 53.643\n"
          ]
        }
      ],
      "source": [
        "# Make predictions on the test set\n",
        "y_pred_test = model.predict(X_test)\n",
        "\n",
        "# Calculate the Mean Absolute Error (MAE) for the test set\n",
        "mae_test = mean_absolute_error(y_test, y_pred_test)\n",
        "\n",
        "print(f'Mean Absolute Error (MAE) for the test set: {mae_test:.3f}')"
      ]
    },
    {
      "cell_type": "markdown",
      "id": "4b22982d-07c3-41d2-8655-447eff318a8a",
      "metadata": {
        "id": "4b22982d-07c3-41d2-8655-447eff318a8a"
      },
      "source": [
        "# Question 21\n",
        "\n",
        "**What is the Root Mean Squared Error (in three decimal places) for test set?**"
      ]
    },
    {
      "cell_type": "code",
      "execution_count": 9,
      "id": "96e923c8-f7f3-4017-b1e1-9ce99f065e1c",
      "metadata": {
        "colab": {
          "base_uri": "https://localhost:8080/"
        },
        "id": "96e923c8-f7f3-4017-b1e1-9ce99f065e1c",
        "outputId": "f214628b-d9e3-44c3-a4e4-4dd9e6d15bb1"
      },
      "outputs": [
        {
          "output_type": "stream",
          "name": "stdout",
          "text": [
            "Root Mean Squared Error (RMSE) for the test set: 93.640\n"
          ]
        }
      ],
      "source": [
        "# Calculate the Mean Squared Error (MSE) for the test set\n",
        "mse_test = mean_squared_error(y_test, y_pred_test)\n",
        "\n",
        "# Calculate the Root Mean Squared Error (RMSE) for the test set\n",
        "rmse_test = (mse_test ** 0.5)\n",
        "\n",
        "print(f'Root Mean Squared Error (RMSE) for the test set: {rmse_test:.3f}')"
      ]
    },
    {
      "cell_type": "markdown",
      "id": "07d8db06-a5a7-4a3f-a65b-658e775072af",
      "metadata": {
        "id": "07d8db06-a5a7-4a3f-a65b-658e775072af"
      },
      "source": [
        "# Question 22\n",
        "**Did the Model above overfit to the training set?**\n",
        "\n",
        "The model will be `Overfitting` if the `RMSE on the test set` is `much higher` than the `RMSE on the training set`. If the model's performance on both the training set and the test set is similar or if it performs better on the test set, it is less likely to be overfitting. This indicates that the model is likely to be a good fit for the data.\n",
        "\n",
        "`RMSE on the test set`: 93.637\\\n",
        "`RMSE on the train set`: 95.216\n",
        "\n",
        "Since the RMSE of the test and training set is similar and that of test set is lower than training set. The model is likely a good fit for the data\n",
        "\n",
        "**Answer**: **NO**"
      ]
    },
    {
      "cell_type": "markdown",
      "id": "a3c82918-2195-400d-b014-dc6a80690549",
      "metadata": {
        "id": "a3c82918-2195-400d-b014-dc6a80690549"
      },
      "source": [
        "# Question 23\n",
        "\n",
        "**Train a ridge regression model with default parameters. Is there any change to the root mean squared error (RMSE) when evaluated on the test set?**"
      ]
    },
    {
      "cell_type": "code",
      "execution_count": 10,
      "id": "f2b1894b-e4fe-4ea5-b759-5ec3d7f0d812",
      "metadata": {
        "colab": {
          "base_uri": "https://localhost:8080/"
        },
        "id": "f2b1894b-e4fe-4ea5-b759-5ec3d7f0d812",
        "outputId": "3252151c-7b4e-4f32-dc57-5c726ba2659e"
      },
      "outputs": [
        {
          "output_type": "stream",
          "name": "stdout",
          "text": [
            "RMSE - Linear Regression Model: 93.640\n",
            "RMSE - Ridge Regression Model: 93.667\n"
          ]
        }
      ],
      "source": [
        "from sklearn.linear_model import Ridge\n",
        "ridge_reg = Ridge(alpha=0.5)\n",
        "ridge_reg.fit(X_train, y_train)\n",
        "\n",
        "# Make predictions on the test set using the Ridge Regression model\n",
        "y_pred_ridge = ridge_reg.predict(X_test)\n",
        "\n",
        "# Calculate the Root Mean Squared Error (RMSE) for both models on the test set\n",
        "rmse_linear = mean_squared_error(y_test, y_pred_test, squared=False)\n",
        "rmse_ridge = mean_squared_error(y_test, y_pred_ridge, squared=False)\n",
        "\n",
        "print(f'RMSE - Linear Regression Model: {rmse_linear:.3f}')\n",
        "print(f'RMSE - Ridge Regression Model: {rmse_ridge:.3f}')"
      ]
    },
    {
      "cell_type": "code",
      "execution_count": 11,
      "id": "8b143496-c987-41c8-8c7a-916ab84aba76",
      "metadata": {
        "colab": {
          "base_uri": "https://localhost:8080/"
        },
        "id": "8b143496-c987-41c8-8c7a-916ab84aba76",
        "outputId": "ffe720ed-846c-40f1-8b40-84db954751a1"
      },
      "outputs": [
        {
          "output_type": "stream",
          "name": "stdout",
          "text": [
            "-0.026681015256130536\n"
          ]
        }
      ],
      "source": [
        "print(rmse_linear - rmse_ridge)"
      ]
    },
    {
      "cell_type": "markdown",
      "id": "158f350f-9ea3-4ee7-8d7a-9244f6963350",
      "metadata": {
        "id": "158f350f-9ea3-4ee7-8d7a-9244f6963350"
      },
      "source": [
        "**Answer: Yes there is a slight difference**"
      ]
    },
    {
      "cell_type": "markdown",
      "id": "71ae639e-dd5a-44d6-ad00-3625b0eae784",
      "metadata": {
        "id": "71ae639e-dd5a-44d6-ad00-3625b0eae784"
      },
      "source": [
        "# Question 24\n",
        "\n",
        "**Train a lasso regression model with default value and obtain the new feature weights with it. How many of the features have non-zero feature weights?**"
      ]
    },
    {
      "cell_type": "code",
      "execution_count": 12,
      "id": "b1e53548-5592-49cf-9119-2dfae5631c9b",
      "metadata": {
        "colab": {
          "base_uri": "https://localhost:8080/"
        },
        "id": "b1e53548-5592-49cf-9119-2dfae5631c9b",
        "outputId": "67015d31-d428-4911-8782-0cadbaf61e9c"
      },
      "outputs": [
        {
          "output_type": "stream",
          "name": "stdout",
          "text": [
            "Number of features with non-zero feature weights: 26\n"
          ]
        }
      ],
      "source": [
        "# Create and fit the Lasso Regression model with default parameters\n",
        "from sklearn.linear_model import Lasso\n",
        "lasso_reg = Lasso(alpha=0.001)\n",
        "lasso_reg.fit(X_train, y_train)\n",
        "\n",
        "# Count the number of features with non-zero feature weights\n",
        "non_zero_features = sum(lasso_reg.coef_ != 0)\n",
        "\n",
        "print(f'Number of features with non-zero feature weights: {non_zero_features}')"
      ]
    },
    {
      "cell_type": "markdown",
      "id": "78f68d10-5c83-424d-b4ec-28a97e76bf97",
      "metadata": {
        "id": "78f68d10-5c83-424d-b4ec-28a97e76bf97"
      },
      "source": [
        "# Question 25\n",
        "\n",
        "**What is the new RMSE with the Lasso Regression on the test set?**"
      ]
    },
    {
      "cell_type": "code",
      "execution_count": 13,
      "id": "17b18c5f-e481-4399-803e-376c127964a9",
      "metadata": {
        "colab": {
          "base_uri": "https://localhost:8080/"
        },
        "id": "17b18c5f-e481-4399-803e-376c127964a9",
        "outputId": "fcea887c-90c9-4416-99a0-4d822aa48a9d"
      },
      "outputs": [
        {
          "output_type": "stream",
          "name": "stdout",
          "text": [
            "Root Mean Squared Error (RMSE) with Lasso Regression on the test set: 93.641\n"
          ]
        }
      ],
      "source": [
        "# Make predictions on the test set using the Lasso Regression model\n",
        "y_pred_lasso = lasso_reg.predict(X_test)\n",
        "\n",
        "# Calculate the Mean Squared Error (MSE) for the test set\n",
        "mse_test = mean_squared_error(y_test, y_pred_lasso)\n",
        "\n",
        "# Calculate the Root Mean Squared Error (RMSE) for the test set\n",
        "rmse_test = np.sqrt(mse_test)\n",
        "\n",
        "print(f'Root Mean Squared Error (RMSE) with Lasso Regression on the test set: {rmse_test:.3f}')"
      ]
    },
    {
      "cell_type": "code",
      "execution_count": null,
      "id": "78a29d97-82ec-4911-9961-d5bf0a89be2b",
      "metadata": {
        "id": "78a29d97-82ec-4911-9961-d5bf0a89be2b"
      },
      "outputs": [],
      "source": []
    }
  ],
  "metadata": {
    "kernelspec": {
      "display_name": "Python 3 (ipykernel)",
      "language": "python",
      "name": "python3"
    },
    "language_info": {
      "codemirror_mode": {
        "name": "ipython",
        "version": 3
      },
      "file_extension": ".py",
      "mimetype": "text/x-python",
      "name": "python",
      "nbconvert_exporter": "python",
      "pygments_lexer": "ipython3",
      "version": "3.11.3"
    },
    "colab": {
      "provenance": [],
      "include_colab_link": true
    }
  },
  "nbformat": 4,
  "nbformat_minor": 5
}